{
 "cells": [
  {
   "cell_type": "code",
   "execution_count": 73,
   "metadata": {},
   "outputs": [],
   "source": [
    "import pandas as pd "
   ]
  },
  {
   "cell_type": "code",
   "execution_count": 74,
   "metadata": {},
   "outputs": [],
   "source": [
    "# reading the laptops csv which contains data about 1300 laptops\n",
    "laptops = pd.read_csv('laptops.csv', encoding = 'Latin-1')"
   ]
  },
  {
   "cell_type": "code",
   "execution_count": 75,
   "metadata": {},
   "outputs": [
    {
     "name": "stdout",
     "output_type": "stream",
     "text": [
      "<class 'pandas.core.frame.DataFrame'>\n",
      "RangeIndex: 1303 entries, 0 to 1302\n",
      "Data columns (total 13 columns):\n",
      "Manufacturer                1303 non-null object\n",
      "Model Name                  1303 non-null object\n",
      "Category                    1303 non-null object\n",
      "Screen Size                 1303 non-null object\n",
      "Screen                      1303 non-null object\n",
      "CPU                         1303 non-null object\n",
      "RAM                         1303 non-null object\n",
      " Storage                    1303 non-null object\n",
      "GPU                         1303 non-null object\n",
      "Operating System            1303 non-null object\n",
      "Operating System Version    1133 non-null object\n",
      "Weight                      1303 non-null object\n",
      "Price (Euros)               1303 non-null object\n",
      "dtypes: object(13)\n",
      "memory usage: 132.5+ KB\n",
      "None\n"
     ]
    }
   ],
   "source": [
    "# as we can see the storage column has an extra space in the front and some \n",
    "# columns have upper, lower, and special chars which makes it harder to work with the data \n",
    "print(laptops.info())"
   ]
  },
  {
   "cell_type": "code",
   "execution_count": 76,
   "metadata": {},
   "outputs": [],
   "source": [
    "# defined a function that cleans the column names \n",
    "# it returns the name with no special chars, no spaces, and all in lower case\n",
    "def clean_col(col):\n",
    "    col = col.strip()\n",
    "    col = col.replace('Operating System','os')\n",
    "    col = col.replace(')', '')\n",
    "    col = col.replace('(', '')\n",
    "    col = col.replace(' ', '_')\n",
    "    col = col.lower()\n",
    "    return col "
   ]
  },
  {
   "cell_type": "code",
   "execution_count": 77,
   "metadata": {},
   "outputs": [
    {
     "name": "stdout",
     "output_type": "stream",
     "text": [
      "<class 'pandas.core.frame.DataFrame'>\n",
      "RangeIndex: 1303 entries, 0 to 1302\n",
      "Data columns (total 13 columns):\n",
      "manufacturer    1303 non-null object\n",
      "model_name      1303 non-null object\n",
      "category        1303 non-null object\n",
      "screen_size     1303 non-null object\n",
      "screen          1303 non-null object\n",
      "cpu             1303 non-null object\n",
      "ram             1303 non-null object\n",
      "storage         1303 non-null object\n",
      "gpu             1303 non-null object\n",
      "os              1303 non-null object\n",
      "os_version      1133 non-null object\n",
      "weight          1303 non-null object\n",
      "price_euros     1303 non-null object\n",
      "dtypes: object(13)\n",
      "memory usage: 132.5+ KB\n",
      "None\n"
     ]
    }
   ],
   "source": [
    "# now we need to create new and cleaned column names \n",
    "new_columns = []\n",
    "\n",
    "for c in laptops.columns:\n",
    "    col = clean_col(c)\n",
    "    new_columns.append(col)\n",
    "\n",
    "# assign the new names of the columns to the DataFrame    \n",
    "laptops.columns = new_columns    \n",
    "\n",
    "print(laptops.info())"
   ]
  },
  {
   "cell_type": "code",
   "execution_count": 78,
   "metadata": {},
   "outputs": [],
   "source": [
    "# convert the data in the price column from string to float values \n",
    "laptops['price_euros'] = (laptops['price_euros']\n",
    "                          .str.replace(',', '.')\n",
    "                          .astype(float)\n",
    "                         )"
   ]
  },
  {
   "cell_type": "code",
   "execution_count": 79,
   "metadata": {},
   "outputs": [],
   "source": [
    "# extract the screen resolution from the screen column\n",
    "laptops['screen_resolution'] = (laptops['screen']\n",
    "                     .str.split()\n",
    "                     .str[-1]\n",
    "                    )"
   ]
  },
  {
   "cell_type": "code",
   "execution_count": 80,
   "metadata": {},
   "outputs": [],
   "source": [
    "# extract the processor speed from the cpu column \n",
    "laptops['processor_speed_GHz'] = (laptops['cpu']\n",
    "                              .str.split()\n",
    "                              .str[-1]\n",
    "                              .str.replace('GHz', '')\n",
    "                              .astype(float)\n",
    "                             )"
   ]
  },
  {
   "cell_type": "code",
   "execution_count": 81,
   "metadata": {},
   "outputs": [
    {
     "name": "stdout",
     "output_type": "stream",
     "text": [
      "Apple laptops cost on average 1,564.20 euros.\n",
      "\n",
      "\n",
      "Other laptops cost on average 1,116.47 euros.\n",
      "\n",
      "\n",
      "True\n"
     ]
    }
   ],
   "source": [
    "# Are laptops made by Apple more expensive than those made by other manufacturers?\n",
    "apple_laptops = laptops.loc[laptops['manufacturer'] == 'Apple', 'price_euros'].mean()\n",
    "\n",
    "other_laptops = laptops.loc[laptops['manufacturer'] != 'Apple', 'price_euros'].mean()\n",
    "\n",
    "print('Apple laptops cost on average {:,.2f} euros.'.format(apple_laptops))\n",
    "print('\\n')\n",
    "print('Other laptops cost on average {:,.2f} euros.'.format(other_laptops))\n",
    "print('\\n')\n",
    "\n",
    "# are apple laptops more expensive than other manufacturers? \n",
    "print(apple_laptops > other_laptops)"
   ]
  },
  {
   "cell_type": "code",
   "execution_count": 82,
   "metadata": {},
   "outputs": [
    {
     "name": "stdout",
     "output_type": "stream",
     "text": [
      "The best value laptop with a screen size of 15\" or more is 199.0 euros.\n"
     ]
    }
   ],
   "source": [
    "# What is the best value laptop with a screen size of 15\" or more?\n",
    "laptops['screen_size'] = (laptops['screen_size']\n",
    "                          .str.replace('\"', '')\n",
    "                          .astype(float)\n",
    "                         )\n",
    "best_val_15_or_more = laptops.loc[laptops['screen_size'] >= 15.0, 'price_euros'].min()\n",
    "\n",
    "print('The best value laptop with a screen size of 15\" or more is {} euros.'.format(best_val_15_or_more))"
   ]
  },
  {
   "cell_type": "code",
   "execution_count": 83,
   "metadata": {},
   "outputs": [
    {
     "data": {
      "text/plain": [
       "76                             IdeaPad 320-15IKBN\n",
       "171           17-bs001nv (i5-7200U/6GB/2TB/Radeon\n",
       "279                            IdeaPad 320-17IKBR\n",
       "303                            IdeaPad 320-15IKBN\n",
       "341                             IdeaPad 320-15ABR\n",
       "358                                 Inspiron 3567\n",
       "365                15-AY023na (N3710/8GB/2TB/W10)\n",
       "467                                 Inspiron 5570\n",
       "527                             IdeaPad 320-15ISK\n",
       "571                14-am079na (N3710/8GB/2TB/W10)\n",
       "688           17-Y002nv (A10-9600P/6GB/2TB/Radeon\n",
       "709          17-ak002nv (A10-9620P/6GB/2TB/Radeon\n",
       "775     Q524UQ-BHI7T15 (i7-7500U/12GB/2TB/GeForce\n",
       "807            15-ba043na (A12-9700P/8GB/2TB/W10)\n",
       "1063                                Inspiron 5567\n",
       "1130            15-bs078cl (i7-7500U/8GB/2TB/W10)\n",
       "Name: model_name, dtype: object"
      ]
     },
     "execution_count": 83,
     "metadata": {},
     "output_type": "execute_result"
    }
   ],
   "source": [
    " # Which laptop has the most storage space?\n",
    "laptops['storage'] = (laptops['storage']\n",
    "                      .str.split()\n",
    "                      .str[0]\n",
    "                      .str.replace('GB', '')\n",
    "                      .str.replace('TB','000')\n",
    "                      .astype(int)\n",
    "                     )\n",
    "\n",
    "most_storage = laptops.loc[laptops['storage'] == laptops['storage'].max(), 'model_name']\n",
    "\n",
    "most_storage\n",
    "# there is multiple laptops with the same maximum storage of 2TB "
   ]
  }
 ],
 "metadata": {
  "kernelspec": {
   "display_name": "Python 3",
   "language": "python",
   "name": "python3"
  },
  "language_info": {
   "codemirror_mode": {
    "name": "ipython",
    "version": 3
   },
   "file_extension": ".py",
   "mimetype": "text/x-python",
   "name": "python",
   "nbconvert_exporter": "python",
   "pygments_lexer": "ipython3",
   "version": "3.7.4"
  }
 },
 "nbformat": 4,
 "nbformat_minor": 2
}
